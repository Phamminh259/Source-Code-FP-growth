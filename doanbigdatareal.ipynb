{
 "cells": [
  {
   "cell_type": "code",
   "execution_count": 14,
   "id": "3261cbeb-c97e-439c-b0d3-e5842700ddf2",
   "metadata": {
    "tags": []
   },
   "outputs": [],
   "source": [
    "import pyspark\n",
    "import pandas as pd\n",
    "from pyspark.sql import SparkSession\n",
    "\n",
    "spark = SparkSession.builder.appName(\"FPGrowthExample\").getOrCreate()\n",
    "df = spark.read.csv(\"dulieugiaodich.csv\", header=True, inferSchema=True)\n",
    "df.show(100)\n"
   ]
  },
  {
   "cell_type": "code",
   "execution_count": 20,
   "id": "726a35bd-64de-4355-85ea-5aa685a12b1f",
   "metadata": {
    "tags": []
   },
   "outputs": [],
   "source": [
    "import pandas as pd\n",
    "import pyfpgrowth\n",
    "\n",
    "# Đọc dữ liệu từ tệp CSV vào một DataFrame\n",
    "data = pd.read_csv(\"dulieugiaodich.csv\")\n",
    "\n",
    "# Chọn các cột cần thiết (Order ID và Product)\n",
    "selected_data = data[[\"Order ID\", \"Product\"]]\n",
    "\n",
    "# Chuyển dữ liệu thành một danh sách dữ liệu (list of lists)\n",
    "transactions = []\n",
    "for order_id, group in selected_data.groupby(\"Order ID\"):\n",
    "    products = list(group[\"Product\"])\n",
    "    transactions.append([order_id] + products)\n",
    "\n",
    "# Tạo tập dữ liệu để thực hiện FP-Growth\n",
    "transactions_set = [set(record[1:]) for record in transactions]\n",
    "\n",
    "# Thực hiện FP-Growth để đếm số lần xuất hiện của mỗi sản phẩm\n",
    "patterns = pyfpgrowth.find_frequent_patterns(transactions_set, 1)  # Số 1 ở đây có thể được thay đổi tùy ý\n",
    "\n",
    "# In kết quả\n",
    "for pattern, support in patterns.items():\n",
    "    print(f\"Product: {pattern[0]}, Product: {pattern[1:]}, Support: {support}\")\n"
   ]
  },
  {
   "cell_type": "code",
   "execution_count": 26,
   "id": "939f31e1-026e-4425-8b05-238c5ed10399",
   "metadata": {
    "tags": []
   },
   "outputs": [],
   "source": [
    "import pandas as pd\n",
    "import pyfpgrowth\n",
    "\n",
    "# Đọc dữ liệu từ tệp CSV vào một DataFrame\n",
    "data = pd.read_csv(\"dulieugiaodich.csv\")\n",
    "\n",
    "# Tạo bảng tần suất xuất hiện của các sản phẩm\n",
    "product_counts = data[\"Product\"].value_counts().head(10)\n",
    "print(product_counts)\n",
    "\n",
    "# Chọn top 10 sản phẩm phổ biến nhất\n",
    "top_products = product_counts.index.tolist()\n",
    "print(top_products)\n",
    "\n",
    "# # Lọc dữ liệu để chỉ bao gồm top 10 sản phẩm\n",
    "filtered_data = data[data[\"Product\"].isin(top_products)][[\"Order ID\", \"Product\"]]\n",
    "print(filtered_data)\n",
    "\n",
    "# # Chuyển dữ liệu thành một danh sách dữ liệu (list of lists)\n",
    "transactions = []\n",
    "for order_id, group in filtered_data.groupby(\"Order ID\"):\n",
    "    products = list(group[\"Product\"])\n",
    "    transactions.append([order_id] + products)\n",
    "# print(transactions)\n",
    "# # Tạo tập dữ liệu để thực hiện FP-Growth\n",
    "transactions_set = [set(record[1:]) for record in transactions]\n",
    "# print(transactions_set)\n",
    "# # Thực hiện FP-Growth để đếm số lần xuất hiện của mỗi sản phẩm\n",
    "patterns = pyfpgrowth.find_frequent_patterns(transactions_set, 1)  # Số 1 ở đây có thể được thay đổi tùy ý\n",
    "print(patterns)\n",
    "# # Tạo DataFrame để trình bày dự đoán kết hợp sản phẩm với phần trăm\n",
    "print('\\nphan tram san pham se duoc chon trong tuong lai')\n",
    "results = []\n",
    "total_transactions = len(transactions_set)\n",
    "\n",
    "for pattern, support in patterns.items():\n",
    "    if len(pattern) > 1:\n",
    "        order_id = pattern[0]\n",
    "        combined_products = \", \".join(pattern[1:])\n",
    "        percentage = (support / total_transactions) * 100\n",
    "        results.append([order_id, combined_products, support, f\"{percentage:.2f}%\"])\n",
    "\n",
    "df = pd.DataFrame(results, columns=[\"Order ID\", \"Combined Products\", \"Support\", \"Percentage\"])\n",
    " \n",
    "# In DataFrame\n",
    "print(df.head(10))\n",
    "\n"
   ]
  },
  {
   "cell_type": "code",
   "execution_count": 12,
   "id": "12090035-9113-4973-97af-7a2b453740e2",
   "metadata": {
    "tags": []
   },
   "outputs": [
    {
     "name": "stdout",
     "output_type": "stream",
     "text": [
      "Contact Name có số lượng sản phẩm nhiều nhất là: Leonard Kelly\n"
     ]
    }
   ],
   "source": [
    "from pyspark.sql import SparkSession\n",
    "from pyspark.sql.functions import col\n",
    "\n",
    "# Khởi tạo một phiên Spark\n",
    "spark = SparkSession.builder.appName(\"MaxProductContact\").getOrCreate()\n",
    "\n",
    "# Đọc dữ liệu từ tệp CSV\n",
    "df = spark.read.csv(\"dulieugiaodich.csv\", header=True, inferSchema=True)\n",
    "\n",
    "# Gom nhóm dữ liệu theo 'Contact Name' và đếm số lượng sản phẩm cho mỗi nhóm\n",
    "grouped = df.groupBy('Contact Name').agg({\"Product\": \"count\"})\n",
    "\n",
    "# Sắp xếp kết quả theo số lượng sản phẩm giảm dần\n",
    "sorted_grouped = grouped.sort(col(\"count(Product)\").desc())\n",
    "# Lấy `Contact Name` của nhóm đầu tiên (có số lượng sản phẩm nhiều nhất)\n",
    "most_product_contact = sorted_grouped.first()['Contact Name']\n",
    "\n",
    "print(\"Contact Name có số lượng sản phẩm nhiều nhất là:\", most_product_contact)\n",
    "# Dừng phiên Spark\n",
    "spark.stop()\n"
   ]
  },
  {
   "cell_type": "code",
   "execution_count": null,
   "id": "3bf8c1bc-7afb-48cc-a087-491920dcac95",
   "metadata": {},
   "outputs": [],
   "source": [
    "#tap trung phan tich du liệu của người mua sản phâm nhiều nhất là Leonard Kelly\n",
    "from pyspark.sql import SparkSession\n",
    "from pyspark.ml.fpm import FPGrowth\n",
    "from pyspark.sql.functions import col\n",
    "# Khởi tạo phiên Spark\n",
    "spark = SparkSession.builder.appName(\"AmazonFPAnalysis\").getOrCreate()\n",
    "#loc ra 10 san pham pho bien nhat trong cua hang thong qua du lieu da lam \n",
    "data = [(1, [\"ContactMatcher\",\"Storage\",\"Site Analytics\"]),\n",
    "        (2, [\"SaaS Connector Pack\"]),\n",
    "        (3, [\"SaaS Connector Pack\",\"Support\",\"ContactMatcher\"]),\n",
    "        (4, [\"Storage\"]),\n",
    "        (5, [\"Site Analytics\",\"ContactMatcher\",\"Support\",\"Big Ol Database\"]),\n",
    "        (6, [\"ContactMatcher\",\"Marketing Suite\",\"ChatBot Plugin\",\"Data Smasher\"]),\n",
    "        (7, [\"OneView\",\"Data Smasher\"]),\n",
    "        (8, [\"Site Analytics\",\"OneView\"]),\n",
    "        (9, [\"ContactMatcher\",\"ChatBot Plugin\",\"Support\",\"Data Smasher\",\"FinanceHub\",\"Marketing Suite\",\"OneView\"]),\n",
    "        (10, [\"ContactMatcher\",\"SaaS Connector Pack\"]),\n",
    "        (11, [\"SaaS Connector Pack\",\"ContactMatcher\"])]\n",
    "\n",
    "columns = [\"Order ID\", \"Product\"]\n",
    "\n",
    "df = spark.createDataFrame(data, columns)\n",
    "\n",
    "df.show()\n",
    "\n",
    "# Sử dụng FP-Growth để tìm các tập mục thường xuyên\n",
    "fp_growth = FPGrowth(itemsCol=\"Product\", minSupport=0.1, minConfidence=0.1)\n",
    "model = fp_growth.fit(df)\n",
    "\n",
    "# Hiển thị tập hợp các mục thường xuyên\n",
    "frequent_itemsets = model.freqItemsets\n",
    "# frequent_itemsets.show()\n",
    "frequent_itemsets = frequent_itemsets.withColumn(\"items\", frequent_itemsets[\"items\"].cast(\"string\"))\n",
    "\n",
    "frequent_itemsets.show(truncate=False)\n",
    "\n",
    "# Hiển thị quy tắc liên kết\n",
    "association_rules = model.associationRules\n",
    "# association_rules.show()\n",
    "association_rules = association_rules.withColumnRenamed(\"antecedent\", \"X\")\n",
    "association_rules = association_rules.withColumnRenamed(\"consequent\", \"Y\")\n",
    "\n",
    "association_rules = association_rules.withColumn(\"X\", col(\"X\").cast(\"string\"))\n",
    "association_rules = association_rules.withColumn(\"Y\", col(\"Y\").cast(\"string\"))\n",
    "\n",
    "association_rules.show(truncate=False)\n"
   ]
  }
 ],
 "metadata": {
  "kernelspec": {
   "display_name": "pyspark-env",
   "language": "python",
   "name": "pyspark-env"
  },
  "language_info": {
   "codemirror_mode": {
    "name": "ipython",
    "version": 3
   },
   "file_extension": ".py",
   "mimetype": "text/x-python",
   "name": "python",
   "nbconvert_exporter": "python",
   "pygments_lexer": "ipython3",
   "version": "3.11.5"
  }
 },
 "nbformat": 4,
 "nbformat_minor": 5
}
